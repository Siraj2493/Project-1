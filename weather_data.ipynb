{
 "cells": [
  {
   "cell_type": "code",
   "execution_count": 24,
   "metadata": {},
   "outputs": [],
   "source": [
    "import requests\n",
    "import pandas as pd\n",
    "import statistics as st\n",
    "import numpy as np"
   ]
  },
  {
   "cell_type": "code",
   "execution_count": 2,
   "metadata": {},
   "outputs": [],
   "source": [
    "# import path for imports\n",
    "import sys\n",
    "import os\n",
    "import_path = os.path.join('c:', os.sep, \"Users\", \"shane\", \"OneDrive\", \"MyDocuments\", \"AppDev\", \"my_imports\")\n",
    "sys.path.insert(1, import_path)"
   ]
  },
  {
   "cell_type": "code",
   "execution_count": 3,
   "metadata": {},
   "outputs": [],
   "source": [
    "# import token\n",
    "from config_keys import ncdc"
   ]
  },
  {
   "cell_type": "code",
   "execution_count": 5,
   "metadata": {},
   "outputs": [],
   "source": [
    "# get state data from NOAA NCDC\n",
    "base_url = \"https://www.ncdc.noaa.gov/cdo-web/api/v2/locations\"\n",
    "token = ncdc\n",
    "params = {\n",
    "    'locationcategoryid' : 'ST',\n",
    "    'startdate' : '2000-01-01',\n",
    "    'enddate' : '2010-01-01',\n",
    "    'limit' : 51\n",
    "}\n",
    "\n",
    "results = requests.get(base_url, params=params, headers={'token':token})"
   ]
  },
  {
   "cell_type": "code",
   "execution_count": 7,
   "metadata": {},
   "outputs": [],
   "source": [
    "weather_states = results.json()['results']"
   ]
  },
  {
   "cell_type": "code",
   "execution_count": 45,
   "metadata": {},
   "outputs": [],
   "source": [
    "def get_value(state, measure, month, year):\n",
    "    \"\"\"function to return an average value for a measurement\"\"\"\n",
    "    base_url = \"https://www.ncdc.noaa.gov/cdo-web/api/v2/data?\"\n",
    "    \n",
    "    params = {\n",
    "    'datasetid' : 'GSOM',\n",
    "    'locationid' : state,\n",
    "    'units' : 'standard',\n",
    "    'datatypeid' : measure\n",
    "    }\n",
    "    \n",
    "    # we need a 2 digit month\n",
    "    if month < 10:\n",
    "        params['startdate'] = f'{year}-0{month}-01'\n",
    "        params['enddate'] = f'{year}-0{month}-01'\n",
    "    else:\n",
    "        params['startdate'] = f'{year}-{month}-01'\n",
    "        params['enddate'] = f'{year}-{month}-01'\n",
    "        \n",
    "    #print(params)\n",
    "    try:\n",
    "        results = requests.get(base_url, params=params, headers={'token':token})\n",
    "    \n",
    "    # exception list from https://www.secopshub.com/t/handling-api-errors-using-python-requests/589\n",
    "    except requests.exceptions.HTTPError as errh:\n",
    "        print(\"An Http Error occurred:\" + repr(errh))\n",
    "        return(False)\n",
    "    except requests.exceptions.ConnectionError as errc:\n",
    "        print(\"An Error Connecting to the API occurred:\" + repr(errc))\n",
    "        return(False)\n",
    "    except requests.exceptions.Timeout as errt:\n",
    "        print(\"A Timeout Error occurred:\" + repr(errt))\n",
    "        return(False)\n",
    "    except requests.exceptions.RequestException as err:\n",
    "        print(\"An Unknown Error occurred\" + repr(err))\n",
    "        return(False)\n",
    "    \n",
    "    try:\n",
    "        json_result = results.json()\n",
    "    except:\n",
    "        print(\"No JSON data\")\n",
    "        return(False)\n",
    "    \n",
    "    try:\n",
    "        response_results = json_result['results']\n",
    "        return(False)\n",
    "    except KeyError:\n",
    "        print('No results in json')\n",
    "        return(False)\n",
    "        \n",
    "    measures = []\n",
    "    for result in response_results:\n",
    "        try:\n",
    "            measures.append(result['value'])\n",
    "        except KeyError:\n",
    "            print(\"no value was found in results\")\n",
    "            return(False)\n",
    "\n",
    "    return(st.mean(measures))\n",
    "        "
   ]
  },
  {
   "cell_type": "code",
   "execution_count": 1,
   "metadata": {},
   "outputs": [
    {
     "ename": "NameError",
     "evalue": "name 'weather_states' is not defined",
     "output_type": "error",
     "traceback": [
      "\u001b[1;31m---------------------------------------------------------------------------\u001b[0m",
      "\u001b[1;31mNameError\u001b[0m                                 Traceback (most recent call last)",
      "\u001b[1;32m<ipython-input-1-4e435fe00cc2>\u001b[0m in \u001b[0;36m<module>\u001b[1;34m\u001b[0m\n\u001b[0;32m     16\u001b[0m \u001b[0mfaliures\u001b[0m \u001b[1;33m=\u001b[0m \u001b[1;33m[\u001b[0m\u001b[1;33m]\u001b[0m\u001b[1;33m\u001b[0m\u001b[1;33m\u001b[0m\u001b[0m\n\u001b[0;32m     17\u001b[0m \u001b[1;33m\u001b[0m\u001b[0m\n\u001b[1;32m---> 18\u001b[1;33m \u001b[1;32mfor\u001b[0m \u001b[0mstate\u001b[0m \u001b[1;32min\u001b[0m \u001b[0mweather_states\u001b[0m\u001b[1;33m:\u001b[0m\u001b[1;33m\u001b[0m\u001b[1;33m\u001b[0m\u001b[0m\n\u001b[0m\u001b[0;32m     19\u001b[0m     \u001b[0mprint\u001b[0m\u001b[1;33m(\u001b[0m\u001b[0mstate\u001b[0m\u001b[1;33m[\u001b[0m\u001b[1;34m'id'\u001b[0m\u001b[1;33m]\u001b[0m\u001b[1;33m)\u001b[0m\u001b[1;33m\u001b[0m\u001b[1;33m\u001b[0m\u001b[0m\n\u001b[0;32m     20\u001b[0m \u001b[1;31m#     for year in range(start_year, end_year + 1):\u001b[0m\u001b[1;33m\u001b[0m\u001b[1;33m\u001b[0m\u001b[1;33m\u001b[0m\u001b[0m\n",
      "\u001b[1;31mNameError\u001b[0m: name 'weather_states' is not defined"
     ]
    }
   ],
   "source": [
    "# create dictionary of lists for the datframe\n",
    "# Get avergage monthly temperature data\n",
    "# TAVG measure from GSOM is the \n",
    "weather_data = {\n",
    "    'Year' : [],\n",
    "    'Month' : [],\n",
    "    'State' : [],\n",
    "    'TAVG' : []\n",
    "}\n",
    "\n",
    "measurements = ['TAVG']\n",
    "start_year = 2000\n",
    "end_year = 2010\n",
    "\n",
    "# build a list to capture the failures to try again if needed\n",
    "faliures = []\n",
    "\n",
    "for state in weather_states:\n",
    "    print(state['id'])\n",
    "#     for year in range(start_year, end_year + 1):\n",
    "#         for month in range(1, 13):\n",
    "#             for measure in measurements:\n",
    "#                 print(f'{state[\"id\"]} - {state[\"name\"]} - {month} - {year} - {measure}')\n",
    "                \n",
    "#                 value = get_value(state[\"id\"], measure, month, year)\n",
    "                \n",
    "#                 if value:\n",
    "#                     weather_data[measure].append(value)\n",
    "#                     weather_data['State'].append(state[\"name\"])\n",
    "#                     weather_data['Year'].append(year)\n",
    "#                     weather_data['Month'].append(month)\n",
    "#                 else:\n",
    "#                     failures.append([state[\"id\"], measure, month, year])\n"
   ]
  },
  {
   "cell_type": "code",
   "execution_count": 37,
   "metadata": {},
   "outputs": [
    {
     "data": {
      "text/html": [
       "<div>\n",
       "<style scoped>\n",
       "    .dataframe tbody tr th:only-of-type {\n",
       "        vertical-align: middle;\n",
       "    }\n",
       "\n",
       "    .dataframe tbody tr th {\n",
       "        vertical-align: top;\n",
       "    }\n",
       "\n",
       "    .dataframe thead th {\n",
       "        text-align: right;\n",
       "    }\n",
       "</style>\n",
       "<table border=\"1\" class=\"dataframe\">\n",
       "  <thead>\n",
       "    <tr style=\"text-align: right;\">\n",
       "      <th></th>\n",
       "      <th>Year</th>\n",
       "      <th>Month</th>\n",
       "      <th>State</th>\n",
       "      <th>TAVG</th>\n",
       "    </tr>\n",
       "  </thead>\n",
       "  <tbody>\n",
       "    <tr>\n",
       "      <th>0</th>\n",
       "      <td>2000</td>\n",
       "      <td>1</td>\n",
       "      <td>Alabama</td>\n",
       "      <td>47.156</td>\n",
       "    </tr>\n",
       "    <tr>\n",
       "      <th>1</th>\n",
       "      <td>2000</td>\n",
       "      <td>2</td>\n",
       "      <td>Alabama</td>\n",
       "      <td>52.332</td>\n",
       "    </tr>\n",
       "    <tr>\n",
       "      <th>2</th>\n",
       "      <td>2000</td>\n",
       "      <td>3</td>\n",
       "      <td>Alabama</td>\n",
       "      <td>58.888</td>\n",
       "    </tr>\n",
       "    <tr>\n",
       "      <th>3</th>\n",
       "      <td>2000</td>\n",
       "      <td>4</td>\n",
       "      <td>Alabama</td>\n",
       "      <td>60.844</td>\n",
       "    </tr>\n",
       "    <tr>\n",
       "      <th>4</th>\n",
       "      <td>2000</td>\n",
       "      <td>5</td>\n",
       "      <td>Alabama</td>\n",
       "      <td>74.008</td>\n",
       "    </tr>\n",
       "    <tr>\n",
       "      <th>...</th>\n",
       "      <td>...</td>\n",
       "      <td>...</td>\n",
       "      <td>...</td>\n",
       "      <td>...</td>\n",
       "    </tr>\n",
       "    <tr>\n",
       "      <th>6727</th>\n",
       "      <td>2010</td>\n",
       "      <td>8</td>\n",
       "      <td>Wyoming</td>\n",
       "      <td>66.400</td>\n",
       "    </tr>\n",
       "    <tr>\n",
       "      <th>6728</th>\n",
       "      <td>2010</td>\n",
       "      <td>9</td>\n",
       "      <td>Wyoming</td>\n",
       "      <td>57.408</td>\n",
       "    </tr>\n",
       "    <tr>\n",
       "      <th>6729</th>\n",
       "      <td>2010</td>\n",
       "      <td>10</td>\n",
       "      <td>Wyoming</td>\n",
       "      <td>48.600</td>\n",
       "    </tr>\n",
       "    <tr>\n",
       "      <th>6730</th>\n",
       "      <td>2010</td>\n",
       "      <td>11</td>\n",
       "      <td>Wyoming</td>\n",
       "      <td>29.116</td>\n",
       "    </tr>\n",
       "    <tr>\n",
       "      <th>6731</th>\n",
       "      <td>2010</td>\n",
       "      <td>12</td>\n",
       "      <td>Wyoming</td>\n",
       "      <td>24.188</td>\n",
       "    </tr>\n",
       "  </tbody>\n",
       "</table>\n",
       "<p>6732 rows × 4 columns</p>\n",
       "</div>"
      ],
      "text/plain": [
       "      Year  Month    State    TAVG\n",
       "0     2000      1  Alabama  47.156\n",
       "1     2000      2  Alabama  52.332\n",
       "2     2000      3  Alabama  58.888\n",
       "3     2000      4  Alabama  60.844\n",
       "4     2000      5  Alabama  74.008\n",
       "...    ...    ...      ...     ...\n",
       "6727  2010      8  Wyoming  66.400\n",
       "6728  2010      9  Wyoming  57.408\n",
       "6729  2010     10  Wyoming  48.600\n",
       "6730  2010     11  Wyoming  29.116\n",
       "6731  2010     12  Wyoming  24.188\n",
       "\n",
       "[6732 rows x 4 columns]"
      ]
     },
     "execution_count": 37,
     "metadata": {},
     "output_type": "execute_result"
    }
   ],
   "source": [
    "weather_df = pd.DataFrame(weather_data)\n",
    "weather_df"
   ]
  },
  {
   "cell_type": "code",
   "execution_count": 2,
   "metadata": {},
   "outputs": [
    {
     "data": {
      "text/plain": [
       "[]"
      ]
     },
     "execution_count": 2,
     "metadata": {},
     "output_type": "execute_result"
    }
   ],
   "source": [
    "# check and see if we had any failures\n",
    "faliures"
   ]
  },
  {
   "cell_type": "code",
   "execution_count": 41,
   "metadata": {},
   "outputs": [],
   "source": [
    "# write the data to a csv\n",
    "weather_df.to_csv('Resources\\temperatures.csv', index=False)"
   ]
  }
 ],
 "metadata": {
  "kernelspec": {
   "display_name": "Python 3",
   "language": "python",
   "name": "python3"
  },
  "language_info": {
   "codemirror_mode": {
    "name": "ipython",
    "version": 3
   },
   "file_extension": ".py",
   "mimetype": "text/x-python",
   "name": "python",
   "nbconvert_exporter": "python",
   "pygments_lexer": "ipython3",
   "version": "3.7.4"
  },
  "varInspector": {
   "cols": {
    "lenName": 16,
    "lenType": 16,
    "lenVar": 40
   },
   "kernels_config": {
    "python": {
     "delete_cmd_postfix": "",
     "delete_cmd_prefix": "del ",
     "library": "var_list.py",
     "varRefreshCmd": "print(var_dic_list())"
    },
    "r": {
     "delete_cmd_postfix": ") ",
     "delete_cmd_prefix": "rm(",
     "library": "var_list.r",
     "varRefreshCmd": "cat(var_dic_list()) "
    }
   },
   "types_to_exclude": [
    "module",
    "function",
    "builtin_function_or_method",
    "instance",
    "_Feature"
   ],
   "window_display": false
  }
 },
 "nbformat": 4,
 "nbformat_minor": 2
}
